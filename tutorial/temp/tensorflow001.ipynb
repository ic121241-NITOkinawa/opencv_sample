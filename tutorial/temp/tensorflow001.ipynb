{
 "cells": [
  {
   "cell_type": "code",
   "execution_count": null,
   "metadata": {},
   "outputs": [],
   "source": [
    "#https://qiita.com/rindai87/items/4b6f985c0583772a2e21"
   ]
  },
  {
   "cell_type": "markdown",
   "metadata": {},
   "source": [
    "# 定数 constant"
   ]
  },
  {
   "cell_type": "code",
   "execution_count": 1,
   "metadata": {},
   "outputs": [
    {
     "name": "stdout",
     "output_type": "stream",
     "text": [
      "3\n"
     ]
    }
   ],
   "source": [
    "# （定数）+（定数）の足し算\n",
    "import tensorflow as tf\n",
    "\n",
    "# 入力となる定数の定義\n",
    "x = tf.constant(1, name=\"x\")\n",
    "y = tf.constant(2, name=\"y\")\n",
    "\n",
    "add_op = tf.add(x, y)\n",
    "\n",
    "with tf.Session() as sess:\n",
    "    print(sess.run(add_op))"
   ]
  },
  {
   "cell_type": "markdown",
   "metadata": {},
   "source": [
    "# 変数 Variable"
   ]
  },
  {
   "cell_type": "code",
   "execution_count": 2,
   "metadata": {},
   "outputs": [
    {
     "name": "stdout",
     "output_type": "stream",
     "text": [
      "1\n",
      "2\n",
      "3\n"
     ]
    }
   ],
   "source": [
    "import tensorflow as tf\n",
    "\n",
    "# cntという変数（カウンター）の定義\n",
    "cnt = tf.Variable(0, name=\"cnt\")\n",
    "inc = tf.constant(1, name=\"inc\")\n",
    "\n",
    "# カウントアップ\n",
    "add_op = tf.add(cnt, inc)\n",
    "\n",
    "# cntの値を更新\n",
    "up_op = tf.assign(cnt, add_op)\n",
    "\n",
    "with tf.Session() as sess:\n",
    "    # 変数を使う場合はまず初期化が必要\n",
    "    sess.run(tf.global_variables_initializer())\n",
    "\n",
    "    # カウントアップを計3回実行\n",
    "    print(sess.run(up_op))\n",
    "    print(sess.run(up_op))\n",
    "    print(sess.run(up_op))"
   ]
  },
  {
   "cell_type": "markdown",
   "metadata": {},
   "source": [
    "# placeholder"
   ]
  },
  {
   "cell_type": "code",
   "execution_count": 3,
   "metadata": {},
   "outputs": [
    {
     "name": "stdout",
     "output_type": "stream",
     "text": [
      "2\n",
      "4\n"
     ]
    }
   ],
   "source": [
    "import tensorflow as tf\n",
    "\n",
    "# 定数の定義\n",
    "x = tf.constant(1, name=\"x\")\n",
    "# プレースホルダーという箱を用意する\n",
    "y = tf.placeholder(tf.int32, name=\"y\")\n",
    "\n",
    "# x+yの演算を定義\n",
    "add_op = tf.add(x, y)\n",
    "\n",
    "with tf.Session() as sess:\n",
    "    sess.run(tf.global_variables_initializer())\n",
    "    # プレースホルダーには、feed_dictという仕組みを通じて値を外挿できる\n",
    "    print(sess.run(add_op, feed_dict={y:1}))\n",
    "    print(sess.run(add_op, feed_dict={y:3}))"
   ]
  },
  {
   "cell_type": "markdown",
   "metadata": {},
   "source": [
    "# Session"
   ]
  },
  {
   "cell_type": "code",
   "execution_count": 4,
   "metadata": {},
   "outputs": [
    {
     "name": "stdout",
     "output_type": "stream",
     "text": [
      "1\n",
      "2\n",
      "3\n",
      "1\n",
      "2\n",
      "3\n"
     ]
    }
   ],
   "source": [
    "import tensorflow as tf\n",
    "\n",
    "cnt = tf.Variable(0, name=\"cnt\")\n",
    "inc = tf.constant(1, name=\"inc\")\n",
    "\n",
    "add_op = tf.add(cnt, inc)\n",
    "up_op = tf.assign(cnt, add_op)\n",
    "\n",
    "with tf.Session() as sess:\n",
    "    sess.run(tf.global_variables_initializer())\n",
    "    print(sess.run(up_op))\n",
    "    print(sess.run(up_op))\n",
    "    print(sess.run(up_op))\n",
    "\n",
    "\n",
    "with tf.Session() as sess:\n",
    "    sess.run(tf.global_variables_initializer())\n",
    "    print(sess.run(up_op))\n",
    "    print(sess.run(up_op))\n",
    "    print(sess.run(up_op))"
   ]
  },
  {
   "cell_type": "markdown",
   "metadata": {},
   "source": [
    "# Tensor"
   ]
  },
  {
   "cell_type": "code",
   "execution_count": 5,
   "metadata": {},
   "outputs": [
    {
     "name": "stdout",
     "output_type": "stream",
     "text": [
      "[[1 2]\n",
      " [1 2]]\n",
      "[[3 4]\n",
      " [3 4]]\n",
      "[[4 6]\n",
      " [4 6]]\n"
     ]
    }
   ],
   "source": [
    "import  tensorflow as tf\n",
    "\n",
    "# ランク2のテンソル（行列）の定義\n",
    "x = tf.constant([[1,2], [1,2]], tf.int32, name=\"x\")\n",
    "y = tf.constant([[3,4], [3,4]], tf.int32, name=\"y\")\n",
    "\n",
    "# 行列の足し算\n",
    "add_op = tf.add(x, y)\n",
    "\n",
    "with tf.Session() as sess:\n",
    "    print(sess.run(x))\n",
    "    print(sess.run(y))\n",
    "    print(sess.run(add_op))\n"
   ]
  },
  {
   "cell_type": "code",
   "execution_count": null,
   "metadata": {},
   "outputs": [],
   "source": []
  }
 ],
 "metadata": {
  "kernelspec": {
   "display_name": "Python 3",
   "language": "python",
   "name": "python3"
  },
  "language_info": {
   "codemirror_mode": {
    "name": "ipython",
    "version": 3
   },
   "file_extension": ".py",
   "mimetype": "text/x-python",
   "name": "python",
   "nbconvert_exporter": "python",
   "pygments_lexer": "ipython3",
   "version": "3.5.4"
  }
 },
 "nbformat": 4,
 "nbformat_minor": 2
}
